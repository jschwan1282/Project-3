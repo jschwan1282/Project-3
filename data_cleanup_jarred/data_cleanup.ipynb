{
 "cells": [
  {
   "cell_type": "code",
   "execution_count": null,
   "metadata": {},
   "outputs": [],
   "source": [
    "import pandas as pd\n",
    "import numpy as np"
   ]
  },
  {
   "cell_type": "markdown",
   "metadata": {},
   "source": [
    "#### Read CSVs with Pandas"
   ]
  },
  {
   "cell_type": "code",
   "execution_count": null,
   "metadata": {},
   "outputs": [],
   "source": [
    "age_csv = \"malaria-deaths-by-age.csv\"\n",
    "gdp_csv = \"malaria-prevalence-vs-gdp-per-capita.csv\"\n",
    "\n",
    "age = pd.read_csv(age_csv)\n",
    "gdp = pd.read_csv(gdp_csv)\n",
    "\n",
    "gdp.head()"
   ]
  },
  {
   "cell_type": "markdown",
   "metadata": {},
   "source": [
    "#### Merge data on country, year, and country code"
   ]
  },
  {
   "cell_type": "code",
   "execution_count": null,
   "metadata": {},
   "outputs": [],
   "source": [
    "merged = pd.merge(age, gdp, how='left', on=['country', 'year', 'code'])\n",
    "merged.head()"
   ]
  },
  {
   "cell_type": "code",
   "execution_count": null,
   "metadata": {},
   "outputs": [],
   "source": [
    "cleaned = merged[['country', 'code', 'year', 'under_5', '5_14', '15_49', '50_69', 'over_70', 'population', 'perc_of_pop_w_malaria', 'gdp_per_capita']]\n",
    "cleaned.head()"
   ]
  },
  {
   "cell_type": "code",
   "execution_count": null,
   "metadata": {},
   "outputs": [],
   "source": [
    "cleaned.rename(columns={'5_14':'age_5_14', '15_49':'age_15_49', '50_69':'age_50_69'}, inplace=True)\n",
    "cleaned.head()"
   ]
  },
  {
   "cell_type": "markdown",
   "metadata": {},
   "source": [
    "#### Add columns of deaths by age groups to get total deaths and insert new column"
   ]
  },
  {
   "cell_type": "code",
   "execution_count": null,
   "metadata": {
    "scrolled": true
   },
   "outputs": [],
   "source": [
    "deaths = (cleaned.under_5 + cleaned.age_5_14 + cleaned.age_15_49 + cleaned.age_50_69 + cleaned.over_70)\n",
    "cleaned.insert(8, 'total_deaths', deaths)\n",
    "cleaned.head()"
   ]
  },
  {
   "cell_type": "code",
   "execution_count": 22,
   "metadata": {},
   "outputs": [
    {
     "data": {
      "text/html": [
       "<div>\n",
       "<style scoped>\n",
       "    .dataframe tbody tr th:only-of-type {\n",
       "        vertical-align: middle;\n",
       "    }\n",
       "\n",
       "    .dataframe tbody tr th {\n",
       "        vertical-align: top;\n",
       "    }\n",
       "\n",
       "    .dataframe thead th {\n",
       "        text-align: right;\n",
       "    }\n",
       "</style>\n",
       "<table border=\"1\" class=\"dataframe\">\n",
       "  <thead>\n",
       "    <tr style=\"text-align: right;\">\n",
       "      <th></th>\n",
       "      <th>country</th>\n",
       "      <th>code</th>\n",
       "      <th>year</th>\n",
       "      <th>under_5</th>\n",
       "      <th>age_5_14</th>\n",
       "      <th>age_15_49</th>\n",
       "      <th>age_50_69</th>\n",
       "      <th>over_70</th>\n",
       "      <th>total_deaths</th>\n",
       "      <th>population</th>\n",
       "      <th>perc_of_pop_w_malaria</th>\n",
       "      <th>gdp_per_capita</th>\n",
       "    </tr>\n",
       "  </thead>\n",
       "  <tbody>\n",
       "    <tr>\n",
       "      <th>0</th>\n",
       "      <td>Afghanistan</td>\n",
       "      <td>AFG</td>\n",
       "      <td>1990</td>\n",
       "      <td>118</td>\n",
       "      <td>22</td>\n",
       "      <td>264</td>\n",
       "      <td>33</td>\n",
       "      <td>27</td>\n",
       "      <td>464</td>\n",
       "      <td>13032161.0</td>\n",
       "      <td>2.23</td>\n",
       "      <td>NaN</td>\n",
       "    </tr>\n",
       "    <tr>\n",
       "      <th>1</th>\n",
       "      <td>Afghanistan</td>\n",
       "      <td>AFG</td>\n",
       "      <td>1991</td>\n",
       "      <td>123</td>\n",
       "      <td>22</td>\n",
       "      <td>281</td>\n",
       "      <td>33</td>\n",
       "      <td>28</td>\n",
       "      <td>487</td>\n",
       "      <td>14069854.0</td>\n",
       "      <td>2.00</td>\n",
       "      <td>NaN</td>\n",
       "    </tr>\n",
       "    <tr>\n",
       "      <th>2</th>\n",
       "      <td>Afghanistan</td>\n",
       "      <td>AFG</td>\n",
       "      <td>1992</td>\n",
       "      <td>126</td>\n",
       "      <td>23</td>\n",
       "      <td>311</td>\n",
       "      <td>35</td>\n",
       "      <td>28</td>\n",
       "      <td>523</td>\n",
       "      <td>15472076.0</td>\n",
       "      <td>1.79</td>\n",
       "      <td>NaN</td>\n",
       "    </tr>\n",
       "    <tr>\n",
       "      <th>3</th>\n",
       "      <td>Afghanistan</td>\n",
       "      <td>AFG</td>\n",
       "      <td>1993</td>\n",
       "      <td>155</td>\n",
       "      <td>26</td>\n",
       "      <td>421</td>\n",
       "      <td>45</td>\n",
       "      <td>28</td>\n",
       "      <td>675</td>\n",
       "      <td>17053213.0</td>\n",
       "      <td>1.61</td>\n",
       "      <td>NaN</td>\n",
       "    </tr>\n",
       "    <tr>\n",
       "      <th>4</th>\n",
       "      <td>Afghanistan</td>\n",
       "      <td>AFG</td>\n",
       "      <td>1994</td>\n",
       "      <td>199</td>\n",
       "      <td>29</td>\n",
       "      <td>475</td>\n",
       "      <td>49</td>\n",
       "      <td>30</td>\n",
       "      <td>782</td>\n",
       "      <td>18553819.0</td>\n",
       "      <td>1.46</td>\n",
       "      <td>NaN</td>\n",
       "    </tr>\n",
       "  </tbody>\n",
       "</table>\n",
       "</div>"
      ],
      "text/plain": [
       "       country code  year  under_5  age_5_14  age_15_49  age_50_69  over_70  \\\n",
       "0  Afghanistan  AFG  1990      118        22        264         33       27   \n",
       "1  Afghanistan  AFG  1991      123        22        281         33       28   \n",
       "2  Afghanistan  AFG  1992      126        23        311         35       28   \n",
       "3  Afghanistan  AFG  1993      155        26        421         45       28   \n",
       "4  Afghanistan  AFG  1994      199        29        475         49       30   \n",
       "\n",
       "   total_deaths  population  perc_of_pop_w_malaria  gdp_per_capita  \n",
       "0           464  13032161.0                   2.23             NaN  \n",
       "1           487  14069854.0                   2.00             NaN  \n",
       "2           523  15472076.0                   1.79             NaN  \n",
       "3           675  17053213.0                   1.61             NaN  \n",
       "4           782  18553819.0                   1.46             NaN  "
      ]
     },
     "execution_count": 22,
     "metadata": {},
     "output_type": "execute_result"
    }
   ],
   "source": [
    "cleaned.head()"
   ]
  },
  {
   "cell_type": "code",
   "execution_count": 19,
   "metadata": {},
   "outputs": [],
   "source": [
    "#save all years merged and cleaned data to CSV\n",
    "cleaned.to_csv(\"cleaned.csv\", header=True, index=False)"
   ]
  },
  {
   "cell_type": "markdown",
   "metadata": {},
   "source": [
    "#### Parse for desired years"
   ]
  },
  {
   "cell_type": "code",
   "execution_count": 24,
   "metadata": {},
   "outputs": [],
   "source": [
    "yr_00 = cleaned['year'] == 2000\n",
    "yr_08 = cleaned['year'] == 2008\n",
    "yr_17 = cleaned['year'] == 2017"
   ]
  },
  {
   "cell_type": "code",
   "execution_count": 27,
   "metadata": {},
   "outputs": [
    {
     "data": {
      "text/html": [
       "<div>\n",
       "<style scoped>\n",
       "    .dataframe tbody tr th:only-of-type {\n",
       "        vertical-align: middle;\n",
       "    }\n",
       "\n",
       "    .dataframe tbody tr th {\n",
       "        vertical-align: top;\n",
       "    }\n",
       "\n",
       "    .dataframe thead th {\n",
       "        text-align: right;\n",
       "    }\n",
       "</style>\n",
       "<table border=\"1\" class=\"dataframe\">\n",
       "  <thead>\n",
       "    <tr style=\"text-align: right;\">\n",
       "      <th></th>\n",
       "      <th>country</th>\n",
       "      <th>code</th>\n",
       "      <th>year</th>\n",
       "      <th>under_5</th>\n",
       "      <th>age_5_14</th>\n",
       "      <th>age_15_49</th>\n",
       "      <th>age_50_69</th>\n",
       "      <th>over_70</th>\n",
       "      <th>total_deaths</th>\n",
       "      <th>population</th>\n",
       "      <th>perc_of_pop_w_malaria</th>\n",
       "      <th>gdp_per_capita</th>\n",
       "    </tr>\n",
       "  </thead>\n",
       "  <tbody>\n",
       "    <tr>\n",
       "      <th>27</th>\n",
       "      <td>Afghanistan</td>\n",
       "      <td>AFG</td>\n",
       "      <td>2017</td>\n",
       "      <td>138</td>\n",
       "      <td>50</td>\n",
       "      <td>919</td>\n",
       "      <td>84</td>\n",
       "      <td>29</td>\n",
       "      <td>1220</td>\n",
       "      <td>NaN</td>\n",
       "      <td>0.67</td>\n",
       "      <td>1804.0</td>\n",
       "    </tr>\n",
       "    <tr>\n",
       "      <th>55</th>\n",
       "      <td>Albania</td>\n",
       "      <td>ALB</td>\n",
       "      <td>2017</td>\n",
       "      <td>0</td>\n",
       "      <td>0</td>\n",
       "      <td>0</td>\n",
       "      <td>0</td>\n",
       "      <td>0</td>\n",
       "      <td>0</td>\n",
       "      <td>NaN</td>\n",
       "      <td>0.00</td>\n",
       "      <td>11803.0</td>\n",
       "    </tr>\n",
       "    <tr>\n",
       "      <th>83</th>\n",
       "      <td>Algeria</td>\n",
       "      <td>DZA</td>\n",
       "      <td>2017</td>\n",
       "      <td>0</td>\n",
       "      <td>0</td>\n",
       "      <td>4</td>\n",
       "      <td>1</td>\n",
       "      <td>1</td>\n",
       "      <td>6</td>\n",
       "      <td>NaN</td>\n",
       "      <td>0.01</td>\n",
       "      <td>13914.0</td>\n",
       "    </tr>\n",
       "    <tr>\n",
       "      <th>111</th>\n",
       "      <td>American Samoa</td>\n",
       "      <td>ASM</td>\n",
       "      <td>2017</td>\n",
       "      <td>0</td>\n",
       "      <td>0</td>\n",
       "      <td>0</td>\n",
       "      <td>0</td>\n",
       "      <td>0</td>\n",
       "      <td>0</td>\n",
       "      <td>NaN</td>\n",
       "      <td>0.00</td>\n",
       "      <td>NaN</td>\n",
       "    </tr>\n",
       "    <tr>\n",
       "      <th>139</th>\n",
       "      <td>Andean Latin America</td>\n",
       "      <td>NaN</td>\n",
       "      <td>2017</td>\n",
       "      <td>1</td>\n",
       "      <td>1</td>\n",
       "      <td>8</td>\n",
       "      <td>4</td>\n",
       "      <td>4</td>\n",
       "      <td>18</td>\n",
       "      <td>NaN</td>\n",
       "      <td>0.26</td>\n",
       "      <td>NaN</td>\n",
       "    </tr>\n",
       "  </tbody>\n",
       "</table>\n",
       "</div>"
      ],
      "text/plain": [
       "                  country code  year  under_5  age_5_14  age_15_49  age_50_69  \\\n",
       "27            Afghanistan  AFG  2017      138        50        919         84   \n",
       "55                Albania  ALB  2017        0         0          0          0   \n",
       "83                Algeria  DZA  2017        0         0          4          1   \n",
       "111        American Samoa  ASM  2017        0         0          0          0   \n",
       "139  Andean Latin America  NaN  2017        1         1          8          4   \n",
       "\n",
       "     over_70  total_deaths  population  perc_of_pop_w_malaria  gdp_per_capita  \n",
       "27        29          1220         NaN                   0.67          1804.0  \n",
       "55         0             0         NaN                   0.00         11803.0  \n",
       "83         1             6         NaN                   0.01         13914.0  \n",
       "111        0             0         NaN                   0.00             NaN  \n",
       "139        4            18         NaN                   0.26             NaN  "
      ]
     },
     "execution_count": 27,
     "metadata": {},
     "output_type": "execute_result"
    }
   ],
   "source": [
    "cleaned_00 = cleaned[yr_00]\n",
    "cleaned_08 = cleaned[yr_08]\n",
    "cleaned_17 = cleaned[yr_17]\n",
    "\n",
    "cleaned_17.head()"
   ]
  },
  {
   "cell_type": "code",
   "execution_count": 28,
   "metadata": {},
   "outputs": [],
   "source": [
    "#Save each years' data to CSV\n",
    "cleaned_00.to_csv(\"cleaned_00.csv\", header=True, index=False)"
   ]
  },
  {
   "cell_type": "code",
   "execution_count": 29,
   "metadata": {},
   "outputs": [],
   "source": [
    "cleaned_08.to_csv(\"cleaned_08.csv\", header=True, index=False)"
   ]
  },
  {
   "cell_type": "code",
   "execution_count": 30,
   "metadata": {},
   "outputs": [],
   "source": [
    "cleaned_17.to_csv(\"cleaned_17.csv\", header=True, index=False)"
   ]
  },
  {
   "cell_type": "markdown",
   "metadata": {},
   "source": [
    "#### Concat the three desired years"
   ]
  },
  {
   "cell_type": "code",
   "execution_count": 31,
   "metadata": {},
   "outputs": [],
   "source": [
    "years = [cleaned_00, cleaned_08, cleaned_17]"
   ]
  },
  {
   "cell_type": "code",
   "execution_count": 33,
   "metadata": {},
   "outputs": [
    {
     "data": {
      "text/html": [
       "<div>\n",
       "<style scoped>\n",
       "    .dataframe tbody tr th:only-of-type {\n",
       "        vertical-align: middle;\n",
       "    }\n",
       "\n",
       "    .dataframe tbody tr th {\n",
       "        vertical-align: top;\n",
       "    }\n",
       "\n",
       "    .dataframe thead th {\n",
       "        text-align: right;\n",
       "    }\n",
       "</style>\n",
       "<table border=\"1\" class=\"dataframe\">\n",
       "  <thead>\n",
       "    <tr style=\"text-align: right;\">\n",
       "      <th></th>\n",
       "      <th>country</th>\n",
       "      <th>code</th>\n",
       "      <th>year</th>\n",
       "      <th>under_5</th>\n",
       "      <th>age_5_14</th>\n",
       "      <th>age_15_49</th>\n",
       "      <th>age_50_69</th>\n",
       "      <th>over_70</th>\n",
       "      <th>total_deaths</th>\n",
       "      <th>population</th>\n",
       "      <th>perc_of_pop_w_malaria</th>\n",
       "      <th>gdp_per_capita</th>\n",
       "    </tr>\n",
       "  </thead>\n",
       "  <tbody>\n",
       "    <tr>\n",
       "      <th>6355</th>\n",
       "      <td>Western Sub-Saharan Africa</td>\n",
       "      <td>NaN</td>\n",
       "      <td>2017</td>\n",
       "      <td>220405</td>\n",
       "      <td>24419</td>\n",
       "      <td>49204</td>\n",
       "      <td>36018</td>\n",
       "      <td>17477</td>\n",
       "      <td>347523</td>\n",
       "      <td>NaN</td>\n",
       "      <td>14.53</td>\n",
       "      <td>NaN</td>\n",
       "    </tr>\n",
       "    <tr>\n",
       "      <th>6383</th>\n",
       "      <td>World</td>\n",
       "      <td>OWID_WRL</td>\n",
       "      <td>2017</td>\n",
       "      <td>354294</td>\n",
       "      <td>54342</td>\n",
       "      <td>108969</td>\n",
       "      <td>71239</td>\n",
       "      <td>30982</td>\n",
       "      <td>619826</td>\n",
       "      <td>NaN</td>\n",
       "      <td>1.95</td>\n",
       "      <td>15469.0</td>\n",
       "    </tr>\n",
       "    <tr>\n",
       "      <th>6411</th>\n",
       "      <td>Yemen</td>\n",
       "      <td>YEM</td>\n",
       "      <td>2017</td>\n",
       "      <td>0</td>\n",
       "      <td>0</td>\n",
       "      <td>5</td>\n",
       "      <td>1</td>\n",
       "      <td>1</td>\n",
       "      <td>7</td>\n",
       "      <td>NaN</td>\n",
       "      <td>1.23</td>\n",
       "      <td>NaN</td>\n",
       "    </tr>\n",
       "    <tr>\n",
       "      <th>6439</th>\n",
       "      <td>Zambia</td>\n",
       "      <td>ZMB</td>\n",
       "      <td>2017</td>\n",
       "      <td>2415</td>\n",
       "      <td>359</td>\n",
       "      <td>1148</td>\n",
       "      <td>572</td>\n",
       "      <td>178</td>\n",
       "      <td>4672</td>\n",
       "      <td>NaN</td>\n",
       "      <td>11.19</td>\n",
       "      <td>3689.0</td>\n",
       "    </tr>\n",
       "    <tr>\n",
       "      <th>6467</th>\n",
       "      <td>Zimbabwe</td>\n",
       "      <td>ZWE</td>\n",
       "      <td>2017</td>\n",
       "      <td>398</td>\n",
       "      <td>139</td>\n",
       "      <td>99</td>\n",
       "      <td>32</td>\n",
       "      <td>18</td>\n",
       "      <td>686</td>\n",
       "      <td>NaN</td>\n",
       "      <td>1.41</td>\n",
       "      <td>1900.0</td>\n",
       "    </tr>\n",
       "  </tbody>\n",
       "</table>\n",
       "</div>"
      ],
      "text/plain": [
       "                         country      code  year  under_5  age_5_14  \\\n",
       "6355  Western Sub-Saharan Africa       NaN  2017   220405     24419   \n",
       "6383                       World  OWID_WRL  2017   354294     54342   \n",
       "6411                       Yemen       YEM  2017        0         0   \n",
       "6439                      Zambia       ZMB  2017     2415       359   \n",
       "6467                    Zimbabwe       ZWE  2017      398       139   \n",
       "\n",
       "      age_15_49  age_50_69  over_70  total_deaths  population  \\\n",
       "6355      49204      36018    17477        347523         NaN   \n",
       "6383     108969      71239    30982        619826         NaN   \n",
       "6411          5          1        1             7         NaN   \n",
       "6439       1148        572      178          4672         NaN   \n",
       "6467         99         32       18           686         NaN   \n",
       "\n",
       "      perc_of_pop_w_malaria  gdp_per_capita  \n",
       "6355                  14.53             NaN  \n",
       "6383                   1.95         15469.0  \n",
       "6411                   1.23             NaN  \n",
       "6439                  11.19          3689.0  \n",
       "6467                   1.41          1900.0  "
      ]
     },
     "execution_count": 33,
     "metadata": {},
     "output_type": "execute_result"
    }
   ],
   "source": [
    "cleaned_2000_2008_2017 = pd.concat(years)\n",
    "cleaned_2000_2008_2017.tail()"
   ]
  },
  {
   "cell_type": "code",
   "execution_count": 34,
   "metadata": {},
   "outputs": [],
   "source": [
    "#Save concat data to CSV\n",
    "cleaned_2000_2008_2017.to_csv(\"cleaned_2000_2008_2017.csv\", header=True, index=False)"
   ]
  },
  {
   "cell_type": "code",
   "execution_count": null,
   "metadata": {},
   "outputs": [],
   "source": []
  }
 ],
 "metadata": {
  "kernelspec": {
   "display_name": "Python 3",
   "language": "python",
   "name": "python3"
  },
  "language_info": {
   "codemirror_mode": {
    "name": "ipython",
    "version": 3
   },
   "file_extension": ".py",
   "mimetype": "text/x-python",
   "name": "python",
   "nbconvert_exporter": "python",
   "pygments_lexer": "ipython3",
   "version": "3.7.3"
  }
 },
 "nbformat": 4,
 "nbformat_minor": 2
}
